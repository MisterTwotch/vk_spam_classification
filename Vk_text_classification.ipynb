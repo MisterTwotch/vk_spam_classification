{
 "cells": [
  {
   "cell_type": "markdown",
   "id": "0e242fab-4bc2-46aa-becb-124057f90a94",
   "metadata": {},
   "source": [
    "<h2>Подключаю все необходимые библеотеки </h2>"
   ]
  },
  {
   "cell_type": "code",
   "execution_count": 1,
   "id": "0aa2d9fd-e998-4ec5-8ece-cfd8aba99e11",
   "metadata": {},
   "outputs": [],
   "source": [
    "import numpy as np\n",
    "import pandas as pd\n",
    "import torch\n",
    "import transformers as ppb # pytorch transformers\n",
    "import matplotlib.pyplot as plt\n",
    "from sklearn.linear_model import LogisticRegression\n",
    "from sklearn.naive_bayes  import GaussianNB\n",
    "from sklearn.model_selection import train_test_split\n",
    "from sklearn.metrics import roc_auc_score\n",
    "from sklearn.metrics import RocCurveDisplay\n",
    "from tqdm.auto import tqdm"
   ]
  },
  {
   "cell_type": "code",
   "execution_count": 2,
   "id": "7b6071cc-c0f6-4b8c-b742-6ed1f3b6f12b",
   "metadata": {},
   "outputs": [],
   "source": [
    "#Очищаю память на GPU\n",
    "torch.cuda.empty_cache()"
   ]
  },
  {
   "cell_type": "markdown",
   "id": "4c31ba53-94d0-4beb-acff-f30729cbe31c",
   "metadata": {},
   "source": [
    "<h2>Загрузка и вывод датасета</h2>"
   ]
  },
  {
   "cell_type": "code",
   "execution_count": 3,
   "id": "d130b5fb-80d7-4a17-8b3e-586dba3d600e",
   "metadata": {},
   "outputs": [],
   "source": [
    "df = pd.read_csv('./train_spam.csv', delimiter=\",\")"
   ]
  },
  {
   "cell_type": "code",
   "execution_count": 4,
   "id": "08bca50a-802c-4554-a7b4-a2b960aa2418",
   "metadata": {},
   "outputs": [
    {
     "data": {
      "text/html": [
       "<div>\n",
       "<style scoped>\n",
       "    .dataframe tbody tr th:only-of-type {\n",
       "        vertical-align: middle;\n",
       "    }\n",
       "\n",
       "    .dataframe tbody tr th {\n",
       "        vertical-align: top;\n",
       "    }\n",
       "\n",
       "    .dataframe thead th {\n",
       "        text-align: right;\n",
       "    }\n",
       "</style>\n",
       "<table border=\"1\" class=\"dataframe\">\n",
       "  <thead>\n",
       "    <tr style=\"text-align: right;\">\n",
       "      <th></th>\n",
       "      <th>text_type</th>\n",
       "      <th>text</th>\n",
       "    </tr>\n",
       "  </thead>\n",
       "  <tbody>\n",
       "    <tr>\n",
       "      <th>0</th>\n",
       "      <td>ham</td>\n",
       "      <td>make sure alex knows his birthday is over in f...</td>\n",
       "    </tr>\n",
       "    <tr>\n",
       "      <th>1</th>\n",
       "      <td>ham</td>\n",
       "      <td>a resume for john lavorato thanks vince i will...</td>\n",
       "    </tr>\n",
       "    <tr>\n",
       "      <th>2</th>\n",
       "      <td>spam</td>\n",
       "      <td>plzz visit my website moviesgodml to get all m...</td>\n",
       "    </tr>\n",
       "    <tr>\n",
       "      <th>3</th>\n",
       "      <td>spam</td>\n",
       "      <td>urgent your mobile number has been awarded wit...</td>\n",
       "    </tr>\n",
       "    <tr>\n",
       "      <th>4</th>\n",
       "      <td>ham</td>\n",
       "      <td>overview of hr associates analyst project per ...</td>\n",
       "    </tr>\n",
       "  </tbody>\n",
       "</table>\n",
       "</div>"
      ],
      "text/plain": [
       "  text_type                                               text\n",
       "0       ham  make sure alex knows his birthday is over in f...\n",
       "1       ham  a resume for john lavorato thanks vince i will...\n",
       "2      spam  plzz visit my website moviesgodml to get all m...\n",
       "3      spam  urgent your mobile number has been awarded wit...\n",
       "4       ham  overview of hr associates analyst project per ..."
      ]
     },
     "execution_count": 4,
     "metadata": {},
     "output_type": "execute_result"
    }
   ],
   "source": [
    "df.head()"
   ]
  },
  {
   "cell_type": "code",
   "execution_count": 5,
   "id": "c529abe1-cdf8-41c5-abae-20555482adab",
   "metadata": {},
   "outputs": [
    {
     "data": {
      "text/plain": [
       "(16278, 2)"
      ]
     },
     "execution_count": 5,
     "metadata": {},
     "output_type": "execute_result"
    }
   ],
   "source": [
    "#Проверяю размер датасета\n",
    "df.shape"
   ]
  },
  {
   "cell_type": "markdown",
   "id": "11b113d7-36da-47b7-8f14-55a6157c2f7f",
   "metadata": {},
   "source": [
    "<h2>Проверка датасета на пропуски и повторы</h2>"
   ]
  },
  {
   "cell_type": "code",
   "execution_count": 6,
   "id": "2f42a01d-b052-4fdd-b6ab-3015e2ce4b14",
   "metadata": {},
   "outputs": [
    {
     "data": {
      "text/plain": [
       "text_type    0\n",
       "text         0\n",
       "dtype: int64"
      ]
     },
     "execution_count": 6,
     "metadata": {},
     "output_type": "execute_result"
    }
   ],
   "source": [
    "#Пропусков нет\n",
    "df.isna().sum()"
   ]
  },
  {
   "cell_type": "code",
   "execution_count": 7,
   "id": "09768038-2e9c-4834-8b88-65bb5e3a0ff2",
   "metadata": {},
   "outputs": [
    {
     "name": "stdout",
     "output_type": "stream",
     "text": [
      "До удаления дубликатов: 16278\n",
      "После удаления: 16267\n"
     ]
    }
   ],
   "source": [
    "print(\"До удаления дубликатов:\", df.shape[0])\n",
    "df = df.drop_duplicates()\n",
    "print(\"После удаления:\", df.shape[0])\n",
    "#Было 11 дубликатов, но, думаю, для выборки из 16к текстов это незначительно"
   ]
  },
  {
   "cell_type": "markdown",
   "id": "b04e02c7-095d-452e-80ad-d5393904d693",
   "metadata": {},
   "source": [
    "<h2>Проверим наличие дисбаланса классов</h2>"
   ]
  },
  {
   "cell_type": "code",
   "execution_count": 8,
   "id": "0dea7774-3c36-45e0-955f-2677c6a5415c",
   "metadata": {},
   "outputs": [
    {
     "data": {
      "image/png": "[encoded data removed]",
      "text/plain": [
       "<Figure size 640x480 with 1 Axes>"
      ]
     },
     "metadata": {},
     "output_type": "display_data"
    }
   ],
   "source": [
    "plt.hist(df[\"text_type\"])\n",
    "plt.plot();"
   ]
  },
  {
   "cell_type": "markdown",
   "id": "8537a280-1d5f-4f9b-baf9-f9d260f73764",
   "metadata": {},
   "source": [
    "<h2>Дисбаланс присутствует(оценочно спама 25%). Accuracy в данном случае лучше не использовать(по заданию ROC-AUC) </h2>"
   ]
  },
  {
   "cell_type": "markdown",
   "id": "f4ac2d8a-5343-400c-b494-ba704cba087f",
   "metadata": {},
   "source": [
    "<h2>Посмотрим на распределение длины текстов</h2>"
   ]
  },
  {
   "cell_type": "code",
   "execution_count": 9,
   "id": "9a8c31ee-9753-44c3-8099-93cd3cb53d45",
   "metadata": {},
   "outputs": [
    {
     "data": {
      "image/png": "[encoded data removed]",
      "text/plain": [
       "<Figure size 640x480 with 1 Axes>"
      ]
     },
     "metadata": {},
     "output_type": "display_data"
    }
   ],
   "source": [
    "plt.hist(df[\"text\"].map(lambda x: len(x)))\n",
    "plt.plot();\n",
    "#По распределению видно, что есть как очень длинные, так и очень короткие текста"
   ]
  },
  {
   "cell_type": "code",
   "execution_count": 10,
   "id": "456b264f-5b1a-479f-bbc5-5febdddd57ac",
   "metadata": {},
   "outputs": [
    {
     "data": {
      "text/html": [
       "<div>\n",
       "<style scoped>\n",
       "    .dataframe tbody tr th:only-of-type {\n",
       "        vertical-align: middle;\n",
       "    }\n",
       "\n",
       "    .dataframe tbody tr th {\n",
       "        vertical-align: top;\n",
       "    }\n",
       "\n",
       "    .dataframe thead th {\n",
       "        text-align: right;\n",
       "    }\n",
       "</style>\n",
       "<table border=\"1\" class=\"dataframe\">\n",
       "  <thead>\n",
       "    <tr style=\"text-align: right;\">\n",
       "      <th></th>\n",
       "      <th>text_type</th>\n",
       "      <th>text</th>\n",
       "    </tr>\n",
       "  </thead>\n",
       "  <tbody>\n",
       "    <tr>\n",
       "      <th>0</th>\n",
       "      <td>spam</td>\n",
       "      <td>we have been rated as 1 one stop shop internet...</td>\n",
       "    </tr>\n",
       "    <tr>\n",
       "      <th>1</th>\n",
       "      <td>spam</td>\n",
       "      <td>books about thailand hello planning a trip to ...</td>\n",
       "    </tr>\n",
       "    <tr>\n",
       "      <th>2</th>\n",
       "      <td>ham</td>\n",
       "      <td>take some small dose tablet for fever</td>\n",
       "    </tr>\n",
       "    <tr>\n",
       "      <th>3</th>\n",
       "      <td>ham</td>\n",
       "      <td>latest revision vince i got the zipped version...</td>\n",
       "    </tr>\n",
       "    <tr>\n",
       "      <th>4</th>\n",
       "      <td>spam</td>\n",
       "      <td>its amazing when you know youre dealing with a...</td>\n",
       "    </tr>\n",
       "  </tbody>\n",
       "</table>\n",
       "</div>"
      ],
      "text/plain": [
       "  text_type                                               text\n",
       "0      spam  we have been rated as 1 one stop shop internet...\n",
       "1      spam  books about thailand hello planning a trip to ...\n",
       "2       ham              take some small dose tablet for fever\n",
       "3       ham  latest revision vince i got the zipped version...\n",
       "4      spam  its amazing when you know youre dealing with a..."
      ]
     },
     "execution_count": 10,
     "metadata": {},
     "output_type": "execute_result"
    }
   ],
   "source": [
    "#Здесь я создаю датафрейм, в котором спама и хама будет равное количество\n",
    "#Чтобы избавиться от дисбаланса классов\n",
    "spam = df[df[\"text_type\"] == \"spam\"]\n",
    "ham = df[df[\"text_type\"] == \"ham\"][: spam.shape[0]]\n",
    "spam_ham_df = pd.concat([spam.copy(), ham], ignore_index=True)\n",
    "spam_ham_df = spam_ham_df.sample(frac=1, random_state=42).reset_index(drop=True)\n",
    "spam_ham_df.head()"
   ]
  },
  {
   "cell_type": "code",
   "execution_count": 11,
   "id": "ff48e291-2aac-43fa-abf1-6db6ac570e41",
   "metadata": {},
   "outputs": [
    {
     "data": {
      "image/png": "[encoded data removed]",
      "text/plain": [
       "<Figure size 640x480 with 1 Axes>"
      ]
     },
     "metadata": {},
     "output_type": "display_data"
    }
   ],
   "source": [
    "plt.hist(spam_ham_df[\"text_type\"]);"
   ]
  },
  {
   "cell_type": "code",
   "execution_count": 12,
   "id": "27821597-6c57-4162-ade2-2512364400ef",
   "metadata": {},
   "outputs": [],
   "source": [
    "def tokenize_df(tokenizer, df):\n",
    "    \"\"\"\n",
    "    Функция, которая токенезирует текст.\n",
    "    Если кол-во токенов слишком мало, то дополняет до 512.\n",
    "    Если слишком много токенов, то обрезает до 512.\n",
    "    \"\"\"\n",
    "    result_df = df.copy()\n",
    "    result_df[\"text\"] = result_df[\"text\"].apply((lambda x: tokenizer.encode(x, add_special_tokens=True)))\n",
    "    max_len = 512#Насколько помню - стандартно для токенайзера берта\n",
    "    result_df[\"text\"] = [i + [0]*(max_len-len(i)) for i in result_df[\"text\"]]\n",
    "    result_df[\"text\"] = [i[:max_len] for i in result_df[\"text\"]]\n",
    "    return result_df"
   ]
  },
  {
   "cell_type": "code",
   "execution_count": 13,
   "id": "e87783df-f735-4aab-ba65-5e9def1b3129",
   "metadata": {},
   "outputs": [],
   "source": [
    "def prepare_features(model, padded, batch_size = 100):\n",
    "    \"\"\"\n",
    "    Функция, которая преобразует токенезированный текст в эмбеддинг.\n",
    "    Эмбеддинг дополнен позиционной составляющей.\n",
    "    \"\"\"\n",
    "    result = []\n",
    "    device = \"cuda\" if torch.cuda.is_available() else \"cpu\"\n",
    "    with torch.no_grad():\n",
    "        for cur_batch in tqdm(range(0, len(padded), batch_size)):\n",
    "            batch_input_ids = padded[cur_batch:cur_batch+batch_size]\n",
    "            attention_mask = torch.tensor(np.where(batch_input_ids.cpu().numpy() != 0, 1, 0)).to(device)\n",
    "            last_hidden_states = model(batch_input_ids, attention_mask=attention_mask)\n",
    "            result.extend(last_hidden_states[0][:,0,:].cpu().numpy())\n",
    "            #print(f\"Good for batch[{start}:{start+batch_size}]\")\n",
    "    return np.array(result)"
   ]
  },
  {
   "cell_type": "code",
   "execution_count": 14,
   "id": "9b77dec9-65c2-41ab-9f25-38c6f9249fb5",
   "metadata": {},
   "outputs": [],
   "source": [
    "model_class, tokenizer_class, pretrained_weights = (ppb.DistilBertModel, \n",
    "                                                    ppb.DistilBertTokenizer, \n",
    "                                                    'distilbert-base-uncased')\n",
    "# Загрузка предобученного DistilBert\n",
    "model = model_class.from_pretrained(pretrained_weights)\n",
    "tokenizer = tokenizer_class.from_pretrained(pretrained_weights)\n",
    "#Далее два варианта df. Df - с дисбалансом. spam_ham_df - без дисбаланса, но выборка меньше.\n",
    "train_df = spam_ham_df.copy()#Или просто df\n",
    "train_df.loc[:,\"text_type\"] = train_df.loc[:,\"text_type\"].map({'spam': 1, 'ham': 0}).astype(\"int\")\n",
    "tokenized_df = tokenize_df(tokenizer, train_df)\n"
   ]
  },
  {
   "cell_type": "code",
   "execution_count": 15,
   "id": "56885fdb-3be5-42f6-8463-bc4040552b89",
   "metadata": {
    "scrolled": true
   },
   "outputs": [
    {
     "data": {
      "application/vnd.jupyter.widget-view+json": {
       "model_id": "c9e1b49e93a4447c974bfc2e51a6ddfd",
       "version_major": 2,
       "version_minor": 0
      },
      "text/plain": [
       "  0%|          | 0/1924 [00:00<?, ?it/s]"
      ]
     },
     "metadata": {},
     "output_type": "display_data"
    }
   ],
   "source": [
    "device = \"cuda\" if torch.cuda.is_available() else \"cpu\"\n",
    "model = model.to(device)\n",
    "#Токенизация текстов и добавление падинга(или обрезание до падинга)\n",
    "prepared_data = torch.tensor(tokenized_df[\"text\"]).to(device)\n",
    "#Пропускаю через енкодер дистилберта, чтобы получить вкусные ебмединги\n",
    "X = prepare_features(model, prepared_data, 5)"
   ]
  },
  {
   "cell_type": "code",
   "execution_count": 16,
   "id": "7347926c-ff7b-4a7c-a439-fc93c0bcce1e",
   "metadata": {},
   "outputs": [],
   "source": [
    "#Обрезаю количество лейблов до количества текстов\n",
    "#Чтобы не было ситуации: 4000 текстов, а лейблов 4002(к примеру)\n",
    "y = tokenized_df[\"text_type\"][:X.shape[0]].astype(\"int\")"
   ]
  },
  {
   "cell_type": "code",
   "execution_count": 17,
   "id": "7889f9b9-503f-473c-8122-43857013c6ac",
   "metadata": {},
   "outputs": [],
   "source": [
    "#Инициализирую логистическую регрессию\n",
    "#Пробовал разные солверы и регуляризацию, но прироста качества не дало\n",
    "lr_clf = LogisticRegression(solver='lbfgs', max_iter=1000, random_state=42)\n",
    "X_train, X_test, y_train, y_test = train_test_split(X, \n",
    "                                                    y, \n",
    "                                                    random_state=42)\n"
   ]
  },
  {
   "cell_type": "code",
   "execution_count": 18,
   "id": "c5236884-3416-4745-bebb-608459837e76",
   "metadata": {},
   "outputs": [],
   "source": [
    "#Обучаю\n",
    "lr_clf.fit(X_train, y_train);"
   ]
  },
  {
   "cell_type": "code",
   "execution_count": 19,
   "id": "0c4d3b81-a66b-4863-ab37-7ddd420ea902",
   "metadata": {},
   "outputs": [
    {
     "name": "stdout",
     "output_type": "stream",
     "text": [
      "ROC-AUC score: 0.9889579771725118\n"
     ]
    }
   ],
   "source": [
    "#Т.к лог. регрессия выдаёт мне вероятности принадлежности к 0 и к 1 классу\n",
    "#То беру только те, которые к первому(т.к остальные алгоритмы возвращают эту вероятность)\n",
    "#Что вполне логично. Т.к P(0) = 1 - P(1). \n",
    "predicts = lr_clf.predict_proba(X_test)[:, 1]\n",
    "print(f\"ROC-AUC score: {roc_auc_score(y_test, predicts)}\")\n",
    "log_reg_auc = roc_auc_score(y_test, predicts)"
   ]
  },
  {
   "cell_type": "code",
   "execution_count": 20,
   "id": "3b3cfb4c-7b40-47fe-80d2-9087eeece5f1",
   "metadata": {},
   "outputs": [
    {
     "data": {
      "image/png": "[encoded data removed]",
      "text/plain": [
       "<Figure size 640x480 with 1 Axes>"
      ]
     },
     "metadata": {},
     "output_type": "display_data"
    }
   ],
   "source": [
    "display = RocCurveDisplay.from_predictions(\n",
    "    y_test.ravel(),\n",
    "    predicts.ravel(),\n",
    "    name=\"micro-average\",\n",
    "    color=\"darkorange\",\n",
    "    plot_chance_level=True,\n",
    ")\n",
    "_ = display.ax_.set(\n",
    "    xlabel=\"False Positive Rate\",\n",
    "    ylabel=\"True Positive Rate\",\n",
    "    title=\"Micro-average и опорная линия ROC\",\n",
    ")"
   ]
  },
  {
   "cell_type": "code",
   "execution_count": 21,
   "id": "3e0e19be-2c4b-429a-93f3-a55a4d741c1a",
   "metadata": {},
   "outputs": [
    {
     "name": "stdout",
     "output_type": "stream",
     "text": [
      "Всего 1000 объектов, попаданий: 956\n"
     ]
    }
   ],
   "source": [
    "#Наглядный пример, что логистическая регрессия отрабатывает действительно хорошо\n",
    "print(\"Всего 1000 объектов, попаданий:\", (lr_clf.predict(X_test[0:1000]) == \n",
    "                                         y_test.iloc[0:1000].ravel().astype(\"int\")).sum())\n",
    "#95.6% в целом хорошо состыкуется с нашим AUC(при увеличении выборки будет стремится к AUC)"
   ]
  },
  {
   "cell_type": "code",
   "execution_count": 22,
   "id": "7c7769a7-af39-4ee7-835c-78238a8421d0",
   "metadata": {},
   "outputs": [],
   "source": [
    "#Очищаю память GPU и создаю CatBoost классификатор\n",
    "torch.cuda.empty_cache()\n",
    "from catboost import CatBoostClassifier\n",
    "cb_clf = CatBoostClassifier(iterations=1000,eval_metric=\"AUC\",\n",
    "                            random_seed=42, use_best_model = True,\n",
    "                            task_type=\"GPU\")\n"
   ]
  },
  {
   "cell_type": "code",
   "execution_count": 23,
   "id": "0b753c4d-cb15-4870-a691-c61eeb793237",
   "metadata": {
    "scrolled": true
   },
   "outputs": [
    {
     "data": {
      "application/vnd.jupyter.widget-view+json": {
       "model_id": "569a5f8dc8d541a7880e4f4054bcf945",
       "version_major": 2,
       "version_minor": 0
      },
      "text/plain": [
       "MetricVisualizer(layout=Layout(align_self='stretch', height='500px'))"
      ]
     },
     "metadata": {},
     "output_type": "display_data"
    },
    {
     "name": "stdout",
     "output_type": "stream",
     "text": [
      "Learning rate set to 0.060198\n"
     ]
    },
    {
     "name": "stderr",
     "output_type": "stream",
     "text": [
      "Default metric period is 5 because AUC is/are not implemented for GPU\n"
     ]
    },
    {
     "name": "stdout",
     "output_type": "stream",
     "text": [
      "0:\ttest: 0.9040461\tbest: 0.9040461 (0)\ttotal: 76ms\tremaining: 1m 15s\n",
      "200:\ttest: 0.9853300\tbest: 0.9853300 (200)\ttotal: 12s\tremaining: 47.7s\n",
      "400:\ttest: 0.9876371\tbest: 0.9876371 (400)\ttotal: 23.5s\tremaining: 35s\n",
      "600:\ttest: 0.9882457\tbest: 0.9882457 (600)\ttotal: 34.7s\tremaining: 23s\n",
      "800:\ttest: 0.9887913\tbest: 0.9887913 (800)\ttotal: 45.7s\tremaining: 11.3s\n",
      "999:\ttest: 0.9891945\tbest: 0.9892042 (995)\ttotal: 55.6s\tremaining: 0us\n",
      "bestTest = 0.9892041683\n",
      "bestIteration = 995\n",
      "Shrink model to first 996 iterations.\n"
     ]
    },
    {
     "data": {
      "text/plain": [
       "<catboost.core.CatBoostClassifier at 0x263e30dd670>"
      ]
     },
     "execution_count": 23,
     "metadata": {},
     "output_type": "execute_result"
    }
   ],
   "source": [
    "#Тренирую и вывожу график\n",
    "cb_clf.fit(X_train, y_train, eval_set=(X_test, y_test), \n",
    "           verbose=200, plot=True, use_best_model=True\n",
    "          )\n"
   ]
  },
  {
   "cell_type": "code",
   "execution_count": 24,
   "id": "83aa096e-5893-48b6-b841-fd2ba68ebfa7",
   "metadata": {},
   "outputs": [],
   "source": [
    "#Делаю предсказание и беру только вероятность 1(спам)\n",
    "#То же самое, что и с логистической регрессией\n",
    "cb_predicts_proba = cb_clf.predict_proba(X_test)\n",
    "cb_predicts_proba = cb_predicts_proba[:,1]"
   ]
  },
  {
   "cell_type": "code",
   "execution_count": 25,
   "id": "9cd65b25-0493-48f7-9109-06983aed1a7d",
   "metadata": {},
   "outputs": [],
   "source": [
    "test_labels = y_test.astype(\"float32\")"
   ]
  },
  {
   "cell_type": "code",
   "execution_count": 26,
   "id": "9c0d2e06-4abb-4f9b-843d-6b62c1cb5200",
   "metadata": {},
   "outputs": [
    {
     "name": "stdout",
     "output_type": "stream",
     "text": [
      "ROC-AUC score: 0.9892041776626996\n"
     ]
    }
   ],
   "source": [
    "print(f\"ROC-AUC score: {roc_auc_score(test_labels, cb_predicts_proba)}\")\n",
    "cat_boost_auc = roc_auc_score(test_labels, cb_predicts_proba)"
   ]
  },
  {
   "cell_type": "code",
   "execution_count": 27,
   "id": "aa14bbdd-9805-4d9f-b466-68d3fcc20fda",
   "metadata": {},
   "outputs": [
    {
     "data": {
      "image/png": "[encoded data removed]",
      "text/plain": [
       "<Figure size 640x480 with 1 Axes>"
      ]
     },
     "metadata": {},
     "output_type": "display_data"
    }
   ],
   "source": [
    "display = RocCurveDisplay.from_predictions(\n",
    "    test_labels.ravel(),\n",
    "    cb_predicts_proba.ravel(),\n",
    "    name=\"micro-average OvR\",\n",
    "    color=\"darkorange\",\n",
    "    plot_chance_level=True,\n",
    ")\n",
    "_ = display.ax_.set(\n",
    "    xlabel=\"False Positive Rate\",\n",
    "    ylabel=\"True Positive Rate\",\n",
    "    title=\"Micro-averaged One-vs-Rest\\nReceiver Operating Characteristic\",\n",
    ")"
   ]
  },
  {
   "cell_type": "code",
   "execution_count": 28,
   "id": "c7abc326-5c97-4122-8b1a-be696d2c742e",
   "metadata": {},
   "outputs": [],
   "source": [
    "gs_clf = GaussianNB()\n",
    "gs_clf.fit(X_train, y_train);"
   ]
  },
  {
   "cell_type": "code",
   "execution_count": 29,
   "id": "b2597738-5dfb-4312-8dee-680675e73000",
   "metadata": {},
   "outputs": [
    {
     "name": "stdout",
     "output_type": "stream",
     "text": [
      "ROC-AUC score: 0.931049685471958\n"
     ]
    }
   ],
   "source": [
    "gs_predicts_proba = gs_clf.predict_proba(X_test)\n",
    "gs_predicts_proba = gs_predicts_proba[:,1]\n",
    "print(f\"ROC-AUC score: {roc_auc_score(test_labels, gs_predicts_proba)}\")\n",
    "gaussian_nb_auc = roc_auc_score(test_labels, gs_predicts_proba)"
   ]
  },
  {
   "cell_type": "code",
   "execution_count": 30,
   "id": "9821a0f9-30e6-4172-ae0c-4e6262dcb357",
   "metadata": {},
   "outputs": [
    {
     "name": "stdout",
     "output_type": "stream",
     "text": [
      "RESULTS\n",
      "Логистическая регрессия AUC:0.9889579771725118\n",
      "Catboost AUC:0.9892041776626996\n",
      "Байес AUC:0.931049685471958 \n"
     ]
    }
   ],
   "source": [
    "print(\"RESULTS\")\n",
    "print(f\"Логистическая регрессия AUC:{log_reg_auc}\")\n",
    "print(f\"Catboost AUC:{cat_boost_auc}\")\n",
    "print(f\"Байес AUC:{gaussian_nb_auc} \")"
   ]
  },
  {
   "cell_type": "markdown",
   "id": "b08283c9-70a9-43eb-9a48-68314453a1b5",
   "metadata": {},
   "source": [
    "<h2>Результат AUC</h2>"
   ]
  },
  {
   "cell_type": "markdown",
   "id": "df6d9ada-dbe5-4c9a-93be-4ed6f82c1cd3",
   "metadata": {},
   "source": [
    "* Catboost = ~0.98-0.99 \n",
    "* Логистическая регрессия = ~0.98-0.99\n",
    "* Байес = 0.92-0.93"
   ]
  },
  {
   "cell_type": "markdown",
   "id": "661fada1-631f-4e0a-9cde-18f5697d6309",
   "metadata": {},
   "source": [
    "<h4>Catboost показывает совсем несущественное улучшение в AUC по сравнению с логистической регрессией.</br>\n",
    "Я выбрал <a style=\"color:rgb(0,255,0);\"> Логистическую регрессию </a> как финальный классификатор. </br>\n",
    "Почему именно Логистическую регрессию:</br>\n",
    "Требует существенно меньше времени и памяти на обучение и инференс, а разница в AUC крайне незначительна.\n",
    "</h4>"
   ]
  },
  {
   "cell_type": "markdown",
   "id": "562c82ac-41e3-4630-a3ee-f9b4b005c680",
   "metadata": {},
   "source": [
    "<h3>Делаю предикт на test датасете</h3>"
   ]
  },
  {
   "cell_type": "code",
   "execution_count": 31,
   "id": "2e8c54aa-fc41-4e79-ad1b-5e167400819f",
   "metadata": {},
   "outputs": [],
   "source": [
    "test_df = pd.read_csv(\"test_spam.csv\")\n"
   ]
  },
  {
   "cell_type": "code",
   "execution_count": 32,
   "id": "7097e365-7c6a-485d-82f3-20b48dff8d2b",
   "metadata": {
    "scrolled": true
   },
   "outputs": [
    {
     "data": {
      "application/vnd.jupyter.widget-view+json": {
       "model_id": "aa4bd485045046228707a5e9f958f025",
       "version_major": 2,
       "version_minor": 0
      },
      "text/plain": [
       "  0%|          | 0/4070 [00:00<?, ?it/s]"
      ]
     },
     "metadata": {},
     "output_type": "display_data"
    }
   ],
   "source": [
    "test_tokenized_df = tokenize_df(tokenizer, test_df)\n",
    "prepared_output_data = torch.tensor(test_tokenized_df[\"text\"]).to(device)\n",
    "X_output = prepare_features(model, prepared_output_data, 1)"
   ]
  },
  {
   "cell_type": "code",
   "execution_count": 33,
   "id": "07320477-a32f-4ef4-bcba-46ab09cd7946",
   "metadata": {},
   "outputs": [],
   "source": [
    "output_predict = lr_clf.predict(X_output)"
   ]
  },
  {
   "cell_type": "code",
   "execution_count": 34,
   "id": "6265cdf7-f32a-4c41-97b0-62e45f839e57",
   "metadata": {},
   "outputs": [
    {
     "data": {
      "text/plain": [
       "(4070, 1)"
      ]
     },
     "execution_count": 34,
     "metadata": {},
     "output_type": "execute_result"
    }
   ],
   "source": [
    "test_df.shape"
   ]
  },
  {
   "cell_type": "code",
   "execution_count": 35,
   "id": "b30f9ba9-a581-496b-822a-6e1112368d6e",
   "metadata": {},
   "outputs": [
    {
     "data": {
      "text/html": [
       "<div>\n",
       "<style scoped>\n",
       "    .dataframe tbody tr th:only-of-type {\n",
       "        vertical-align: middle;\n",
       "    }\n",
       "\n",
       "    .dataframe tbody tr th {\n",
       "        vertical-align: top;\n",
       "    }\n",
       "\n",
       "    .dataframe thead th {\n",
       "        text-align: right;\n",
       "    }\n",
       "</style>\n",
       "<table border=\"1\" class=\"dataframe\">\n",
       "  <thead>\n",
       "    <tr style=\"text-align: right;\">\n",
       "      <th></th>\n",
       "      <th>text</th>\n",
       "      <th>text_type</th>\n",
       "    </tr>\n",
       "  </thead>\n",
       "  <tbody>\n",
       "    <tr>\n",
       "      <th>0</th>\n",
       "      <td>j jim whitehead ejw cse ucsc edu writes j you ...</td>\n",
       "      <td>ham</td>\n",
       "    </tr>\n",
       "    <tr>\n",
       "      <th>1</th>\n",
       "      <td>original message from bitbitch magnesium net p...</td>\n",
       "      <td>ham</td>\n",
       "    </tr>\n",
       "    <tr>\n",
       "      <th>2</th>\n",
       "      <td>java for managers vince durasoft who just taug...</td>\n",
       "      <td>ham</td>\n",
       "    </tr>\n",
       "    <tr>\n",
       "      <th>3</th>\n",
       "      <td>there is a youtuber name saiman says</td>\n",
       "      <td>ham</td>\n",
       "    </tr>\n",
       "    <tr>\n",
       "      <th>4</th>\n",
       "      <td>underpriced issue with high return on equity t...</td>\n",
       "      <td>ham</td>\n",
       "    </tr>\n",
       "  </tbody>\n",
       "</table>\n",
       "</div>"
      ],
      "text/plain": [
       "                                                text text_type\n",
       "0  j jim whitehead ejw cse ucsc edu writes j you ...       ham\n",
       "1  original message from bitbitch magnesium net p...       ham\n",
       "2  java for managers vince durasoft who just taug...       ham\n",
       "3               there is a youtuber name saiman says       ham\n",
       "4  underpriced issue with high return on equity t...       ham"
      ]
     },
     "execution_count": 35,
     "metadata": {},
     "output_type": "execute_result"
    }
   ],
   "source": [
    "result_df = test_df.copy()\n",
    "result_df[\"text_type\"] = output_predict\n",
    "result_df[\"text_type\"] = result_df[\"text_type\"].map({1: 'spam', 0: 'ham'})\n",
    "result_df.head()"
   ]
  },
  {
   "cell_type": "code",
   "execution_count": 37,
   "id": "82ba6343-a2ed-47a8-a8b2-ca8121942069",
   "metadata": {},
   "outputs": [],
   "source": [
    "result_df.to_csv(\"submission.csv\", sep=',', index=False)"
   ]
  },
  {
   "cell_type": "markdown",
   "id": "64bd659a-05f8-4cb9-b446-a136ed754027",
   "metadata": {},
   "source": [
    "<h2>Благодарю за уделенное время!</h2>"
   ]
  }
 ],
 "metadata": {
  "kernelspec": {
   "display_name": "Python 3 (ipykernel)",
   "language": "python",
   "name": "python3"
  },
  "language_info": {
   "codemirror_mode": {
    "name": "ipython",
    "version": 3
   },
   "file_extension": ".py",
   "mimetype": "text/x-python",
   "name": "python",
   "nbconvert_exporter": "python",
   "pygments_lexer": "ipython3",
   "version": "3.12.1"
  }
 },
 "nbformat": 4,
 "nbformat_minor": 5
}
